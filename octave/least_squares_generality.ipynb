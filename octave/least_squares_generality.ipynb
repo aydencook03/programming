{
 "cells": [
  {
   "cell_type": "code",
   "execution_count": null,
   "id": "659265d9-69b1-4b76-bb4e-be19aebf6567",
   "metadata": {
    "tags": []
   },
   "outputs": [],
   "source": [
    "% Q'Qc = Q'v\n",
    "\n",
    "function coeff = least_square(vector, basis)\n",
    "    Q = basis;\n",
    "    v = vector;\n",
    "    coeff = (Q'*Q)\\(Q'*v);\n",
    "end\n",
    "\n",
    "format rat;"
   ]
  },
  {
   "cell_type": "code",
   "execution_count": 2,
   "id": "83476b08-b11b-4bc5-9438-952d8af62edf",
   "metadata": {
    "tags": []
   },
   "outputs": [
    {
     "name": "stdout",
     "output_type": "stream",
     "text": [
      "\u001b[?2004l\n",
      "\u001b[?2004h\u001b[?2004l\n",
      "\u001b[?2004h\u001b[?2004l\n",
      "\u001b[?2004h\u001b[?2004l\n",
      "\u001b[?2004h\u001b[?2004l\n",
      "\u001b[?2004h\u001b[?2004l\n",
      "approx =\n",
      "\n",
      "   0.5834\n",
      "   0.7793\n",
      "   0.3054\n",
      "   1.5586\n",
      "   0.4192\n",
      "\n",
      "\u001b[?2004h"
     ]
    }
   ],
   "source": [
    "% Approximation of arbitrary vector in a subspace\n",
    "\n",
    "format short;\n",
    "vector = [1 ; 1 ; 1 ; 1 ; 1];\n",
    "basis = [[-1 ; 2 ; -1 ; 4 ; 5] [3 ; 1 ; 2 ; 2 ; -3]];\n",
    "approx = basis*least_square(vector, basis)"
   ]
  },
  {
   "cell_type": "code",
   "execution_count": 12,
   "id": "29c318fd-a13e-4315-ae84-13865a70a939",
   "metadata": {},
   "outputs": [
    {
     "name": "stdout",
     "output_type": "stream",
     "text": [
      "\u001b[?2004l\n",
      "\u001b[?2004h\u001b[?2004l\n",
      "\u001b[?2004h\u001b[?2004l\n",
      "\u001b[?2004h\u001b[?2004l\n",
      "\u001b[?2004h\u001b[?2004l\n",
      "\u001b[?2004h\u001b[?2004l\n",
      "\u001b[?2004h\u001b[?2004l\n",
      "coeff =\n",
      "\n",
      "          *\n",
      "          1\n",
      "          *\n",
      "       -1/6\n",
      "\n",
      "\u001b[?2004h\u001b[?2004l\n",
      "\u001b[?2004h\u001b[?2004l\n",
      "\u001b[?2004h\u001b[?2004l\n",
      "\u001b[?2004h"
     ]
    },
    {
     "data": {
      "image/png": "[encoded data removed]",
      "text/plain": [
       "<IPython.core.display.Image object>"
      ]
     },
     "metadata": {},
     "output_type": "display_data"
    }
   ],
   "source": [
    "% Taylor Series of sin(x)\n",
    "\n",
    "format rat;\n",
    "x = linspace(-0.01, 0.01, 100)';\n",
    "vector = @(x) sin(x);\n",
    "basis = @(x) [x.^0 x.^1 x.^2 x.^3];\n",
    "coeff = least_square(vector(x), basis(x))\n",
    "\n",
    "t = linspace(-4, 4, 100)';\n",
    "plot(t, vector(t), \"g\", t, basis(t)*coeff, \"r\"), grid minor;"
   ]
  },
  {
   "cell_type": "code",
   "execution_count": 13,
   "id": "c3c4dadd-87aa-4939-997c-975af89a80df",
   "metadata": {
    "tags": []
   },
   "outputs": [
    {
     "name": "stdout",
     "output_type": "stream",
     "text": [
      "\u001b[?2004l\n",
      "\u001b[?2004h\u001b[?2004l\n",
      "\u001b[?2004h\u001b[?2004l\n",
      "\u001b[?2004h\u001b[?2004l\n",
      "\u001b[?2004h\u001b[?2004l\n",
      "\u001b[?2004h\u001b[?2004l\n",
      "\u001b[?2004h\u001b[?2004l\n",
      "coeff_exp =\n",
      "\n",
      "          1 -         *i\n",
      "          * +         1i\n",
      "       -1/2 +         *i\n",
      "          * -       1/6i\n",
      "\n",
      "\u001b[?2004h\u001b[?2004l\n",
      "\u001b[?2004h\u001b[?2004l\n",
      "\u001b[?2004h\u001b[?2004l\n",
      "\u001b[?2004h\u001b[?2004l\n",
      "coeff_trig =\n",
      "\n",
      "          1 -         *i\n",
      "          * +         1i\n",
      "       -1/2 +         *i\n",
      "          * -       1/6i\n",
      "\n",
      "\u001b[?2004h"
     ]
    }
   ],
   "source": [
    "% Taylor Series of exp(ix) vs cos(x) + isin(x)\n",
    "\n",
    "format rat;\n",
    "x = linspace(-0.01, 0.01, 100)';\n",
    "vector = @(x) exp(i*x);\n",
    "basis = @(x) [x.^0 x.^1 x.^2 x.^3];\n",
    "coeff_exp = least_square(vector(x), basis(x))\n",
    "\n",
    "vector = @(x) cos(x) + i*sin(x);\n",
    "basis = @(x) [x.^0 x.^1 x.^2 x.^3];\n",
    "coeff_trig = least_square(vector(x), basis(x))"
   ]
  },
  {
   "cell_type": "code",
   "execution_count": 6,
   "id": "f529a126-e67d-4558-9024-5e605cd78a25",
   "metadata": {
    "tags": []
   },
   "outputs": [
    {
     "name": "stdout",
     "output_type": "stream",
     "text": [
      "\u001b[?2004l\n",
      "\u001b[?2004h\u001b[?2004l\n",
      "\u001b[?2004h\u001b[?2004l\n",
      "\u001b[?2004h\u001b[?2004l\n",
      "\u001b[?2004h\u001b[?2004l\n",
      "\u001b[?2004h\u001b[?2004l\n",
      "\u001b[?2004h\u001b[?2004l\n",
      "\u001b[?2004h\u001b[?2004l\n",
      "\u001b[?2004h\u001b[?2004l\n",
      "\u001b[?2004h\u001b[?2004l\n",
      "\u001b[?2004h\u001b[?2004l\n",
      "\u001b[?2004h\u001b[?2004l\n",
      "\u001b[?2004h\u001b[?2004l\n",
      "\u001b[?2004h\u001b[?2004l\n",
      "\u001b[?2004h\u001b[?2004l\n",
      "\u001b[?2004h\u001b[?2004l\n",
      "\u001b[?2004h\u001b[?2004l\n",
      "\u001b[?2004h\u001b[?2004l\n",
      "\u001b[?2004h\u001b[?2004l\n",
      "\u001b[?2004h\u001b[?2004l\n",
      "\u001b[?2004h\u001b[?2004l\n",
      "\u001b[?2004h\u001b[?2004l\n",
      "\u001b[?2004h\u001b[?2004l\n",
      "\u001b[?2004h\u001b[?2004l\n",
      "\u001b[?2004h\u001b[?2004l\n",
      "\u001b[?2004h\u001b[?2004l\n",
      "\u001b[?2004h\u001b[?2004l\n",
      "\u001b[?2004h\u001b[?2004l\n",
      "\u001b[?2004h"
     ]
    },
    {
     "data": {
      "image/png": "[encoded data removed]",
      "text/plain": [
       "<IPython.core.display.Image object>"
      ]
     },
     "metadata": {},
     "output_type": "display_data"
    }
   ],
   "source": [
    "% Fourier series of saw-tooth\n",
    "\n",
    "format short;\n",
    "function vect = vector(x, T)\n",
    "    vect = zeros(size(x));\n",
    "    for i = 1:length(x)\n",
    "        if (x(i) >= -T/2 && x(i) <= T/2)\n",
    "            vect(i) = x(i);\n",
    "        else\n",
    "            vect(i) = 0;\n",
    "        end\n",
    "    end\n",
    "end\n",
    "\n",
    "function val = basis(x, n, T)\n",
    "    val = [];\n",
    "    for k = 1:n\n",
    "        val = [val sin(k*2*pi/T .* x) cos(k*2*pi/T .* x)];\n",
    "    end\n",
    "end\n",
    "\n",
    "T = 1;\n",
    "x = linspace(-T/2, T/2, 1000)';\n",
    "n = 4;\n",
    "coeff = least_square(vector(x, T), basis(x, n, T));\n",
    "\n",
    "t = linspace(-2*T, 2*T, 1000)';\n",
    "plot(t, vector(t, T), \"g\", t, basis(t, n, T)*coeff, \"r\"), grid minor;"
   ]
  },
  {
   "cell_type": "code",
   "execution_count": 16,
   "id": "4f3f47e0-e010-424b-925b-a83c8dfe7c72",
   "metadata": {},
   "outputs": [
    {
     "name": "stdout",
     "output_type": "stream",
     "text": [
      "\u001b[?2004l\n",
      "\u001b[?2004h\u001b[?2004l\n",
      "\u001b[?2004h\u001b[?2004l\n",
      "\u001b[?2004h\u001b[?2004l\n",
      "\u001b[?2004h\u001b[?2004l\n",
      "\u001b[?2004h\u001b[?2004l\n",
      "\u001b[?2004h\u001b[?2004l\n",
      "\u001b[?2004h\u001b[?2004l\n",
      "\u001b[?2004h\u001b[?2004l\n",
      "\u001b[?2004h\u001b[?2004l\n",
      "\u001b[?2004h\u001b[?2004l\n",
      "\u001b[?2004h\u001b[?2004l\n",
      "\u001b[?2004h\u001b[?2004l\n",
      "\u001b[?2004h\u001b[?2004l\n",
      "\u001b[?2004h\u001b[?2004l\n",
      "\u001b[?2004h\u001b[?2004l\n",
      "warning: matrix singular to machine precision, rcond = 4.1702e-38\n",
      "warning: called from\n",
      "    least_square at line 4 column 11\n",
      "\n",
      "\u001b[?2004h\u001b[?2004l\n",
      "\u001b[?2004h\u001b[?2004l\n",
      "\u001b[?2004h"
     ]
    },
    {
     "data": {
      "image/png": "[encoded data removed]",
      "text/plain": [
       "<IPython.core.display.Image object>"
      ]
     },
     "metadata": {},
     "output_type": "display_data"
    }
   ],
   "source": [
    "% Discrete fourier transform\n",
    "\n",
    "function val = basis(x, N)\n",
    "    val = [];\n",
    "    for k = 1:N\n",
    "        val = [val sin(k*2*pi/N .* x)];\n",
    "    end\n",
    "    for k = 1:N\n",
    "        val = [val cos(k*2*pi/N .* x)];\n",
    "    end\n",
    "end\n",
    "\n",
    "N = 30;\n",
    "x = linspace(0, N, N)';\n",
    "y = -2.*x + 7 + x.*randn(size(x));\n",
    "coeff = least_square(y, basis(x, N));\n",
    "\n",
    "plot(x, y, \"go\", x, basis(x, N)*coeff, \"r\");"
   ]
  },
  {
   "cell_type": "code",
   "execution_count": 88,
   "id": "d3e3f395-82b5-46e7-8e96-6d975ec82ef9",
   "metadata": {
    "tags": []
   },
   "outputs": [
    {
     "name": "stdout",
     "output_type": "stream",
     "text": [
      "\u001b[?2004l\n",
      "\u001b[?2004h\u001b[?2004l\n",
      "\u001b[?2004h\u001b[?2004l\n",
      "\u001b[?2004h\u001b[?2004l\n",
      "\u001b[?2004h\u001b[?2004l\n",
      "\u001b[?2004h\u001b[?2004l\n",
      "\u001b[?2004h\u001b[?2004l\n",
      "\u001b[?2004h\u001b[?2004l\n",
      "\u001b[?2004h\u001b[?2004l\n",
      "\u001b[?2004h\u001b[?2004l\n",
      "\u001b[?2004h\u001b[?2004l\n",
      "\u001b[?2004h\u001b[?2004l\n",
      "\u001b[?2004h\u001b[?2004l\n",
      "\u001b[?2004h\u001b[?2004l\n",
      "\u001b[?2004h\u001b[?2004l\n",
      "\u001b[?2004h\u001b[?2004l\n",
      "\u001b[?2004h\u001b[?2004l\n",
      "warning: matrix singular to machine precision, rcond = 2.1975e-29\n",
      "warning: called from\n",
      "    least_square at line 4 column 11\n",
      "\n",
      "\u001b[?2004h\u001b[?2004l\n",
      "\u001b[?2004h\u001b[?2004l\n",
      "\u001b[?2004h"
     ]
    },
    {
     "data": {
      "image/png": "[encoded data removed]",
      "text/plain": [
       "<IPython.core.display.Image object>"
      ]
     },
     "metadata": {},
     "output_type": "display_data"
    }
   ],
   "source": [
    "% Discrete fourier transform\n",
    "\n",
    "function val = basis(x, N, T)\n",
    "    val = [];\n",
    "    for k = 1:N\n",
    "        %val = [val exp(i*k*2*pi/T .* x)];\n",
    "        val = [val sin(k*2*pi/T .* x) cos(k*2*pi/T .*x)];\n",
    "    end\n",
    "end\n",
    "\n",
    "format short;\n",
    "T = 10;\n",
    "N = 30;\n",
    "x = linspace(0, T, N)';\n",
    "y = -2.*x + 7 + x.*randn(size(x));\n",
    "basis = basis(x, N, T);\n",
    "coeff = least_square(y, basis);\n",
    "\n",
    "plot(x, y, \"go\", x, basis*coeff, \"r\");"
   ]
  },
  {
   "cell_type": "code",
   "execution_count": null,
   "id": "50050dd2-59c5-4fe7-88ae-3defcdcba0b9",
   "metadata": {},
   "outputs": [],
   "source": []
  }
 ],
 "metadata": {
  "kernelspec": {
   "display_name": "Octave",
   "language": "octave",
   "name": "octave"
  },
  "language_info": {
   "file_extension": ".m",
   "help_links": [
    {
     "text": "GNU Octave",
     "url": "https://www.gnu.org/software/octave/support.html"
    },
    {
     "text": "Octave Kernel",
     "url": "https://github.com/Calysto/octave_kernel"
    },
    {
     "text": "MetaKernel Magics",
     "url": "https://metakernel.readthedocs.io/en/latest/source/README.html"
    }
   ],
   "mimetype": "text/x-octave",
   "name": "octave",
   "version": "8.2.0"
  }
 },
 "nbformat": 4,
 "nbformat_minor": 5
}
