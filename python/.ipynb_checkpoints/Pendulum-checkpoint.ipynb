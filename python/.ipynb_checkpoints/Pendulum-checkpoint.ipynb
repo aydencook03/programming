{
 "cells": [
  {
   "cell_type": "code",
   "execution_count": 17,
   "metadata": {},
   "outputs": [],
   "source": [
    "import numpy as np\n",
    "import matplotlib.pyplot as plt\n",
    "%matplotlib inline"
   ]
  },
  {
   "cell_type": "code",
   "execution_count": 65,
   "metadata": {},
   "outputs": [],
   "source": [
    "def pendulumCoords(startTime, endTime, deltaT, initialAngle, gravity, length):\n",
    "    timeValues = int((endTime-startTime)/deltaT)\n",
    "    ang = initialAngle*(np.pi/180)\n",
    "    angV = 0\n",
    "    angA = 0\n",
    "    vals = []\n",
    "    \n",
    "    for t in range(timeValues):\n",
    "        angA = -(gravity/length) * np.sin(ang)\n",
    "        angV += angA*deltaT\n",
    "        ang += angV*deltaT\n",
    "        vals.append(ang*(180/np.pi))\n",
    "    \n",
    "    return np.array([np.linspace(startTime, endTime, timeValues), np.array(vals)])"
   ]
  },
  {
   "cell_type": "code",
   "execution_count": 66,
   "metadata": {},
   "outputs": [],
   "source": [
    "def plotCoords(s, e, d, i, g, l):\n",
    "    coords = pendulumCoords(s, e, d, i, g, l)\n",
    "    plt.plot(coords[0], coords[1])"
   ]
  },
  {
   "cell_type": "code",
   "execution_count": 68,
   "metadata": {},
   "outputs": [],
   "source": [
    "# Initial Conditions\n",
    "angle = 179.9 # degrees\n",
    "gravity = 9.8 # m/s\n",
    "length = 1 # m\n",
    "\n",
    "startTime = 0\n",
    "endTime = 60\n",
    "deltaT = 0.01 #seconds\n",
    "\n",
    "plotCoords()"
   ]
  }
 ],
 "metadata": {
  "kernelspec": {
   "display_name": "Python 3",
   "language": "python",
   "name": "python3"
  },
  "language_info": {
   "codemirror_mode": {
    "name": "ipython",
    "version": 3
   },
   "file_extension": ".py",
   "mimetype": "text/x-python",
   "name": "python",
   "nbconvert_exporter": "python",
   "pygments_lexer": "ipython3",
   "version": "3.8.6"
  }
 },
 "nbformat": 4,
 "nbformat_minor": 4
}
