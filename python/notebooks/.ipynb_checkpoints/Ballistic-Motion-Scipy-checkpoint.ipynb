{
 "cells": [
  {
   "cell_type": "code",
   "execution_count": 1,
   "metadata": {},
   "outputs": [],
   "source": [
    "import matplotlib.pyplot as plt\n",
    "import scipy.integrate\n",
    "import numpy as np\n",
    "%matplotlib inline"
   ]
  },
  {
   "cell_type": "code",
   "execution_count": 2,
   "metadata": {},
   "outputs": [],
   "source": [
    "def ballisticODE(time, state, initial_state, gravity, drag, drag_is_quadratic):\n",
    "    x = state[0]\n",
    "    y = state[1]\n",
    "    xV = state[2]\n",
    "    yV = state[3]\n",
    "    \n",
    "    x_dot = xV\n",
    "    y_dot = yV\n",
    "    \n",
    "    if drag_is_quadratic:\n",
    "        xV_dot = -drag * xV**2\n",
    "        yV_dot = -gravity - drag*yV**2\n",
    "    else:\n",
    "        xV_dot = -drag * xV\n",
    "        yV_dot = -gravity - drag*yV\n",
    "        \n",
    "    state_dot = np.array([x_dot, y_dot, xV_dot, yV_dot])\n",
    "    \n",
    "    # if it hits the ground\n",
    "    if x > initial_state[0] and y <= 0:\n",
    "        state_dot *= 0\n",
    "    \n",
    "    return state_dot"
   ]
  },
  {
   "cell_type": "code",
   "execution_count": 27,
   "metadata": {},
   "outputs": [],
   "source": [
    "def get_trajectory(position, launch_angle, launch_velocity, gravity, drag_coefficient, drag_is_quadratic):\n",
    "    initial_state = [position[0],\n",
    "                     position[1], \n",
    "                     launch_velocity*np.cos(launch_angle*np.pi/180), \n",
    "                     launch_velocity*np.sin(launch_angle*np.pi/180)]\n",
    "\n",
    "    solved = scipy.integrate.solve_ivp(ballisticODE, (0, time_to_stop), initial_state, args=(initial_state, gravity, drag_coefficient, drag_is_quadratic), t_eval = times_to_save)\n",
    "    \n",
    "    return (solved.y[0], solved.y[1])"
   ]
  },
  {
   "cell_type": "code",
   "execution_count": 36,
   "metadata": {},
   "outputs": [
    {
     "data": {
      "image/png": "[encoded data removed]",
      "text/plain": [
       "<Figure size 432x288 with 1 Axes>"
      ]
     },
     "metadata": {
      "needs_background": "light"
     },
     "output_type": "display_data"
    }
   ],
   "source": [
    "time_to_stop = 50 #seconds\n",
    "times_to_save = np.linspace(0, time_to_stop, 500)\n",
    "\n",
    "x, y = get_trajectory((0, 0), 70, 60, 9.8, 0.1, True)\n",
    "\n",
    "x2, y2 = get_trajectory((0,0), 70, 60, 9.8, 0.8, False)\n",
    "\n",
    "plt.title(\"Ballistic Motion\")\n",
    "plt.xlabel(\"Distance\")\n",
    "plt.ylabel(\"Height\")\n",
    "plt.xlim(left = -5)\n",
    "plt.ylim(bottom = -5)\n",
    "plt.grid(True)\n",
    "plt.axis('equal')\n",
    "plt.plot(x, y, color=\"crimson\", label=\"Quadratic Drag: 0.1\")\n",
    "plt.plot(x2, y2, color='blue', label=\"Linear Drag: 0.8\")\n",
    "plt.legend()\n",
    "plt.show()"
   ]
  },
  {
   "cell_type": "code",
   "execution_count": null,
   "metadata": {},
   "outputs": [],
   "source": []
  }
 ],
 "metadata": {
  "kernelspec": {
   "display_name": "Python 3",
   "language": "python",
   "name": "python3"
  },
  "language_info": {
   "codemirror_mode": {
    "name": "ipython",
    "version": 3
   },
   "file_extension": ".py",
   "mimetype": "text/x-python",
   "name": "python",
   "nbconvert_exporter": "python",
   "pygments_lexer": "ipython3",
   "version": "3.8.6"
  }
 },
 "nbformat": 4,
 "nbformat_minor": 4
}
