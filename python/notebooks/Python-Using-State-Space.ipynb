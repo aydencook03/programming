{
 "cells": [
  {
   "cell_type": "code",
   "execution_count": 6,
   "metadata": {},
   "outputs": [],
   "source": [
    "import matplotlib.pyplot as plt\n",
    "from math import sin, pi\n",
    "%matplotlib inline"
   ]
  },
  {
   "cell_type": "code",
   "execution_count": 21,
   "metadata": {},
   "outputs": [],
   "source": [
    "# initial state of system = [angle, angular_velocity]\n",
    "state = [179.9 * pi/180, 0]\n",
    "time_to_simulate_to = 15\n",
    "time_step = 0.0000001\n",
    "\n",
    "# properties of pendulum (SI)\n",
    "gravity = 9.81\n",
    "length = 1.5"
   ]
  },
  {
   "cell_type": "code",
   "execution_count": null,
   "metadata": {},
   "outputs": [],
   "source": [
    "# iteration variables\n",
    "number_of_iterations = int(time_to_simulate_to / time_step)\n",
    "states = [state]\n",
    "\n",
    "# graphing variables\n",
    "times = [0]\n",
    "angles = [state[0]*(180/pi)]\n",
    "\n",
    "for n in range(1, number_of_iterations):\n",
    "    angle = states[n-1][0] + time_step * states[n-1][1]\n",
    "    velocity = states[n-1][1] + time_step * (-gravity/length) * sin(states[n-1][0])\n",
    "    states.append([angle, velocity])\n",
    "    times.append(n*time_step)\n",
    "    angles.append(angle*(180/pi))\n",
    "\n",
    "plt.plot(times, angles)"
   ]
  },
  {
   "cell_type": "code",
   "execution_count": null,
   "metadata": {},
   "outputs": [],
   "source": []
  }
 ],
 "metadata": {
  "kernelspec": {
   "display_name": "Python 3",
   "language": "python",
   "name": "python3"
  },
  "language_info": {
   "codemirror_mode": {
    "name": "ipython",
    "version": 3
   },
   "file_extension": ".py",
   "mimetype": "text/x-python",
   "name": "python",
   "nbconvert_exporter": "python",
   "pygments_lexer": "ipython3",
   "version": "3.8.6"
  }
 },
 "nbformat": 4,
 "nbformat_minor": 4
}
