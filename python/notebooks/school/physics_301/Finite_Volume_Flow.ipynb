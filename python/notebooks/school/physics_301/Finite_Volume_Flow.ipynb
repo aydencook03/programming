{
 "cells": [
  {
   "cell_type": "markdown",
   "metadata": {
    "id": "sDVxDonl27Rz"
   },
   "source": [
    "### Finite Volume Flow ###\n",
    "\n",
    "Solving fluid dynamic equations using the finite volume method. "
   ]
  },
  {
   "cell_type": "markdown",
   "metadata": {
    "id": "S5yPbgr527R3"
   },
   "source": [
    "The easiest to implement set of finite volumes is a rectangular grid. We will investigate flow using a $n_{x} \\times n_{y}$ grid. At each point we will calculate the pressure inside the grid $P_{i,j}$, and the velocity of the fluid through its various faces $u_{i,j}$, $u_{i-1,j}$, $v_{i,j}$, $v_{i,j-1}$. Note that the velocity of the fluid through the right-side face of the volume $u_{i,j}$ is equal and opposite to the velocity entering the left-side face of the adjacent volume on the right. "
   ]
  },
  {
   "cell_type": "code",
   "execution_count": 40,
   "metadata": {
    "id": "0fl9s_aS27R4"
   },
   "outputs": [],
   "source": [
    "#Basics\n",
    "import matplotlib.pyplot as plt\n",
    "from matplotlib import cm\n",
    "import numpy as np"
   ]
  },
  {
   "cell_type": "markdown",
   "metadata": {
    "id": "lvlv6VuI27R6"
   },
   "source": [
    "Initialize the grid"
   ]
  },
  {
   "cell_type": "code",
   "execution_count": 41,
   "metadata": {
    "id": "YEp_7KMC27R6"
   },
   "outputs": [],
   "source": [
    "#Simulation properties\n",
    "Lx = 2.5\n",
    "Ly = 2.0\n",
    "##################################################\n",
    "#Set up rectangular obstacles  x_0, x_f, y_0, y_f\n",
    "##################################################\n",
    "obstarr = np.array([[0.8,1.0,0.84,0.94],[0.8,1.0,1.06,1.16]]) #two rectangles\n",
    "##################################################\n",
    "nx = 300\n",
    "ny = 200\n",
    "dx = Lx / nx\n",
    "dy = Ly / ny\n",
    "nt = 1000        # Number of time steps  ; increae to 1000 for Re <= 20 ; decrease to 750 for Re > 20\n",
    "dt = 1.5E-4     # time step\n",
    "u_init = 4.00      # Initial velocity\n",
    "rho = 0.1        # Density\n",
    "Re = 60        # No higher than 60, no lower than 5"
   ]
  },
  {
   "cell_type": "code",
   "execution_count": 42,
   "metadata": {
    "colab": {
     "base_uri": "https://localhost:8080/",
     "height": 304
    },
    "id": "6h0RsvOb27R7",
    "outputId": "c4283f25-d3f9-40ed-ed46-ec67c773de57"
   },
   "outputs": [
    {
     "name": "stdout",
     "output_type": "stream",
     "text": [
      "dt ok < 1.302e-03\n"
     ]
    },
    {
     "data": {
      "text/plain": [
       "<matplotlib.image.AxesImage at 0x7f4d27758f40>"
      ]
     },
     "execution_count": 42,
     "metadata": {},
     "output_type": "execute_result"
    },
    {
     "data": {
      "image/png": "[encoded data removed]",
      "text/plain": [
       "<Figure size 640x480 with 1 Axes>"
      ]
     },
     "metadata": {},
     "output_type": "display_data"
    }
   ],
   "source": [
    "###########################\n",
    "# Initialization\n",
    "###########################\n",
    "#\n",
    "#######\n",
    "# Create obstacle index array\n",
    "#######\n",
    "obstijarr = np.zeros(shape=obstarr.shape, dtype=int)\n",
    "for i in range(obstarr.shape[0]):\n",
    "    obstijarr[i] = np.append(obstarr[i,0:2]/dx,obstarr[i,2:]/dy).astype(int)\n",
    "#######\n",
    "p_init = 0.5*rho*u_init**2\n",
    "p = np.ones((nx, ny)) * p_init * 0.25\n",
    "v = np.zeros((nx, ny))\n",
    "u = np.ones((nx, ny))*u_init     #This sets a uniform initial velocity to the right\n",
    "mu = rho*u_init*(obstarr[0,1]-obstarr[0,0])/Re #calculates mu from Re and velocity\n",
    "##########\n",
    "#check dt\n",
    "##########\n",
    "if (dt > .25*rho*dx**2/mu):\n",
    "    print(\"Warning: dt too large; dt < {0:1.3e}\".format(.25*rho*dx**2/mu))\n",
    "    dt = .1*rho*dx**2/mu\n",
    "    print(\"dt now = {0:1.3e}\".format(dt))\n",
    "else:\n",
    "    print(\"dt ok < {0:1.3e}\".format(.25*rho*dx**2/mu))\n",
    "\n",
    "u[:,0] = u_init\n",
    "for i in range(obstijarr.shape[0]):\n",
    "    u[obstijarr[i,0]-10:-6,obstijarr[i,2]-1:obstijarr[i,3]+1] = 0.6*u_init #slower in front and behind obstacle\n",
    "    u[obstijarr[i,0]-1:obstijarr[i,1]+1,obstijarr[i,2]-2:obstijarr[i,3]+2] = 0 #no slip condition\n",
    "    p[obstijarr[i,0]-1:obstijarr[i,0]+1,obstijarr[i,2]-1:obstijarr[i,3]+1] = p_init #slight increase init p at front\n",
    "\n",
    "plt.imshow(u.T)"
   ]
  },
  {
   "cell_type": "code",
   "execution_count": 43,
   "metadata": {
    "id": "nmkCShZA27R9"
   },
   "outputs": [],
   "source": [
    "##### Pressure Correction\n",
    "\n",
    "def pressure(p,u,v,rho,mu,dt,dx,dy,obstijarr):\n",
    "    nx, ny = p.shape\n",
    "    b = np.zeros((nx, ny))\n",
    "    b[1:-1, 1:-1] = (1 / dt) * ((u[2:,1:-1] - u[0:-2,1:-1]) / (2 * dx) + (v[1:-1,2:] - v[1:-1,0:-2]) / (2 * dy)) -\\\n",
    "                    ((u[2:,1:-1] - u[0:-2,1:-1]) / (2 * dx))**2 - 2 * ((u[1:-1,2:] - u[1:-1,0:-2]) / (2 * dy) *\n",
    "                    (v[2:,1:-1] - v[0:-2,1:-1]) / (2 * dx))- ((v[1:-1,2:] - v[1:-1,0:-2]) / (2 * dy))**2    \n",
    "    for q in range(45):\n",
    "        pn = p.copy()\n",
    " \n",
    "        p[1:-1, 1:-1] = (((pn[2:,1:-1] + pn[0:-2,1:-1]) * dy**2 + (pn[1:-1,2:] + pn[1:-1,0:-2]) * dx**2) / (2 * (dx**2 + dy**2)) -\n",
    "                    (rho * dx**2 * dy**2) / (2 * (dx**2 + dy**2)) * b[1:-1,1:-1])\n",
    "        #Left/right boundary conditions\n",
    "        p[0,1:-1] = p[1,1:-1] - (p[2,1:-1] - p[1,1:-1]) #simplke linear extroploation\n",
    "        p[-1,1:-1] = (p[-2,1:-1] - p[-3,1:-1]) + p[-2,1:-1] \n",
    "        #Top/Bottom\n",
    "        p[:,-1] = p[:,-2]\n",
    "        p[:,0] = p[:,1]\n",
    "        #Boundary conditions for obstacle\n",
    "        for n in range(obstijarr.shape[0]):    \n",
    "            p[obstijarr[n,0],obstijarr[n,2]:obstijarr[n,3]+1] = p[obstijarr[n,0]-1,obstijarr[n,2]:obstijarr[n,3]+1] #W set dp/dx = 0\n",
    "            p[obstijarr[n,1],obstijarr[n,2]:obstijarr[n,3]+1] = p[obstijarr[n,1]+1,obstijarr[n,2]:obstijarr[n,3]+1] #E\n",
    "            p[obstijarr[n,0]+1:obstijarr[n,1],obstijarr[n,2]] = p[obstijarr[n,0]+1:obstijarr[n,1],obstijarr[n,2]-1] #S\n",
    "            p[obstijarr[n,0]+1:obstijarr[n,1],obstijarr[n,3]] = p[obstijarr[n,0]+1:obstijarr[n,1],obstijarr[n,3]+1] #N\n",
    "            p[obstijarr[n,0]+1:obstijarr[n,1],obstijarr[n,2]+1:obstijarr[n,3]] = p_init #pressure inside set to initial p \n",
    "    \n",
    "    p = np.clip(p - np.percentile(p,3),0.001,None)\n",
    "    return p"
   ]
  },
  {
   "cell_type": "markdown",
   "metadata": {
    "id": "O1YvbzgJ27R-"
   },
   "source": [
    "## Advection and Diffusion ##\n",
    "\n",
    "$$ u_{i,j}^{t} = u_{i,j}^{n} - \\frac{\\Delta t}{\\Delta x}\\left[\n",
    "\\left(\\frac{u_{i,j} + u_{i+1,j}}{2}\\right)^{2} - \\left(\\frac{u_{i,j} + u_{i-1,j}}{2}\\right)^{2}\\right] \\\\\n",
    "-\\frac{\\Delta t}{\\Delta y}\\left[\n",
    "\\left(\\frac{u_{i,j} + u_{i,j+1}}{2}\\right)\\left(\\frac{v_{i,j} + v_{i+1,j}}{2}\\right) -\n",
    "\\left(\\frac{u_{i,j-1} + u_{i,j}}{2}\\right)\\left(\\frac{v_{i,j-1} + v_{i+1,j-1}}{2}\\right)\n",
    "\\right]\\\\\n",
    "+\\Delta t \\mu \\left[\n",
    "\\left(\\frac{u_{i+1,j} - 2u_{i,j} + u_{i-1,j}}{\\Delta x^{2}}\\right) +\n",
    "\\left(\\frac{u_{i,j+1} - 2u_{i,j} + u_{i,j-1}}{\\Delta y^{2}}\\right)\n",
    "\\right]\n",
    "$$"
   ]
  },
  {
   "cell_type": "code",
   "execution_count": 44,
   "metadata": {
    "id": "0DJc9f1W27R-",
    "scrolled": true
   },
   "outputs": [
    {
     "name": "stderr",
     "output_type": "stream",
     "text": [
      "/tmp/ipykernel_18019/3111717200.py:7: RuntimeWarning: overflow encountered in square\n",
      "  ((u[2:,1:-1] - u[0:-2,1:-1]) / (2 * dx))**2 - 2 * ((u[1:-1,2:] - u[1:-1,0:-2]) / (2 * dy) *\n",
      "/tmp/ipykernel_18019/3111717200.py:7: RuntimeWarning: overflow encountered in multiply\n",
      "  ((u[2:,1:-1] - u[0:-2,1:-1]) / (2 * dx))**2 - 2 * ((u[1:-1,2:] - u[1:-1,0:-2]) / (2 * dy) *\n",
      "/tmp/ipykernel_18019/3111717200.py:7: RuntimeWarning: overflow encountered in divide\n",
      "  ((u[2:,1:-1] - u[0:-2,1:-1]) / (2 * dx))**2 - 2 * ((u[1:-1,2:] - u[1:-1,0:-2]) / (2 * dy) *\n",
      "/tmp/ipykernel_18019/3111717200.py:6: RuntimeWarning: overflow encountered in subtract\n",
      "  b[1:-1, 1:-1] = (1 / dt) * ((u[2:,1:-1] - u[0:-2,1:-1]) / (2 * dx) + (v[1:-1,2:] - v[1:-1,0:-2]) / (2 * dy)) -\\\n",
      "/tmp/ipykernel_18019/3111717200.py:6: RuntimeWarning: invalid value encountered in subtract\n",
      "  b[1:-1, 1:-1] = (1 / dt) * ((u[2:,1:-1] - u[0:-2,1:-1]) / (2 * dx) + (v[1:-1,2:] - v[1:-1,0:-2]) / (2 * dy)) -\\\n",
      "/tmp/ipykernel_18019/3111717200.py:8: RuntimeWarning: overflow encountered in square\n",
      "  (v[2:,1:-1] - v[0:-2,1:-1]) / (2 * dx))- ((v[1:-1,2:] - v[1:-1,0:-2]) / (2 * dy))**2\n",
      "/tmp/ipykernel_18019/3111717200.py:16: RuntimeWarning: invalid value encountered in subtract\n",
      "  p[-1,1:-1] = (p[-2,1:-1] - p[-3,1:-1]) + p[-2,1:-1]\n",
      "/tmp/ipykernel_18019/3111717200.py:12: RuntimeWarning: invalid value encountered in add\n",
      "  p[1:-1, 1:-1] = (((pn[2:,1:-1] + pn[0:-2,1:-1]) * dy**2 + (pn[1:-1,2:] + pn[1:-1,0:-2]) * dx**2) / (2 * (dx**2 + dy**2)) -\n"
     ]
    }
   ],
   "source": [
    "### LOOP ###\n",
    "nt = 50\n",
    "\n",
    "for n in range(nt):\n",
    "    ut = np.copy(u)\n",
    "    vt = np.copy(v)\n",
    "    \n",
    "    au1 = ((u[1:-1, 1:-1] + u[2:, 1:-1])/2)**2\n",
    "    au2 = ((u[1:-1, 1:-1] + u[0: -2, 1: -1])/2)**2\n",
    "    au3 = ((u[1: -1, 1: -1] + u[1: -1, 2:])/2) * ((v[1:-1, 1:-1] + v[2:,1:-1])/2)\n",
    "    au4 = ((u[1: -1, 1: -1] + u[1: -1, 0:-2])/2) * ((v[1:-1, 0:-2] + v[2:,0:-2])/2)\n",
    "    au5 = (u[2:, 1:-1] - 2*u[1:-1, 1:-1] + u[0:-2, 1:-1])/(dx**2)\n",
    "    au6 = (u[1:-1, 2:] - 2*u[1:-1, 1:-1] + u[1:-1, 0:-2])/(dy**2)\n",
    "    \n",
    "    av1 = ((v[1:-1, 1:-1] + v[2:, 1:-1])/2)**2\n",
    "    av2 = ((v[1:-1, 1:-1] + v[0: -2, 1: -1])/2)**2\n",
    "    av3 = ((v[1: -1, 1: -1] + v[1: -1, 2:])/2) * ((u[1:-1, 1:-1] + u[2:,1:-1])/2)\n",
    "    av4 = ((v[1: -1, 1: -1] + v[1: -1, 0:-2])/2) * ((u[1:-1, 0:-2] + u[2:,0:-2])/2)\n",
    "    av5 = (v[2:, 1:-1] - 2*v[1:-1, 1:-1] + v[0:-2, 1:-1])/(dy**2)\n",
    "    av6 = (v[1:-1, 2:] - 2*v[1:-1, 1:-1] + v[1:-1, 0:-2])/(dx**2)\n",
    "    \n",
    "    ut[1:-1, 1:-1] = u[1: -1, 1:-1] - (dt/dx)*(au1-au2) - (dt/dy)*(au3-au4) + (dt*mu/rho)*(au5 + au6)\n",
    "    vt[1:-1, 1:-1] = v[1: -1, 1:-1] - (dt/dy)*(av1-av2) - (dt/dx)*(av3-av4) + (dt*mu/rho)*(av5 + av6)\n",
    "    \n",
    "    for i in range(obstijarr.shape[0]):\n",
    "        ut[obstijarr[i,0]-1:obstijarr[i,1]+1,obstijarr[i,2]-1:obstijarr[i,3]+1] = 0\n",
    "        vt[obstijarr[i,0]-1:obstijarr[i,1]+1,obstijarr[i,2]-1:obstijarr[i,3]+1] = 0\n",
    "\n",
    "    pnew = pressure(p, ut, vt, rho, mu, dt, dx, dy, obstijarr)\n",
    "    u[1:-1, 1:-1] = ut[1:-1, 1:-1] - dt/(dx*rho)*(pnew[2:,1:-1] - pnew[1:-1, 1:-1])\n",
    "    v[1:-1, 1:-1] = vt[1:-1, 1:-1] - dt/(dy*rho)*(pnew[2:,1:-1] - pnew[1:-1, 1:-1])\n",
    "    \n",
    "    for i in range(obstijarr.shape[0]):\n",
    "        ut[obstijarr[i,0]-1:obstijarr[i,1]+1,obstijarr[i,2]-1:obstijarr[i,3]+1] = 0\n",
    "        vt[obstijarr[i,0]-1:obstijarr[i,1]+1,obstijarr[i,2]-1:obstijarr[i,3]+1] = 0\n",
    "    \n",
    "    u[-1, :] = u[-2, :]\n",
    "    u[:, 1] = u[:, 2] # bottom boundary\n",
    "    u[:, -1] = u[:, -2] # top\n",
    "    u[0, :] = u_init\n",
    "    "
   ]
  },
  {
   "cell_type": "code",
   "execution_count": 45,
   "metadata": {
    "id": "mj7Wvxnj27R_"
   },
   "outputs": [
    {
     "data": {
      "text/plain": [
       "<matplotlib.streamplot.StreamplotSet at 0x7f4d27644460>"
      ]
     },
     "execution_count": 45,
     "metadata": {},
     "output_type": "execute_result"
    },
    {
     "data": {
      "image/png": "[encoded data removed]",
      "text/plain": [
       "<Figure size 1500x1100 with 2 Axes>"
      ]
     },
     "metadata": {},
     "output_type": "display_data"
    }
   ],
   "source": [
    "mgx = np.linspace(0, Lx, nx)\n",
    "mgy = np.linspace(0, Ly, ny)\n",
    "X, Y = np.meshgrid(mgx, mgy)\n",
    "fig = plt.figure(figsize=(15, 11))\n",
    "a = np.percentile(p,5)\n",
    "b = np.percentile(p,30)\n",
    "c = np.median(p)\n",
    "d = np.percentile(p,70)\n",
    "e = np.percentile(p,90)\n",
    "f = np.max(p)\n",
    "levels = [a/2,a,b,c,d,e,f]\n",
    "plt.contourf(X, Y, p.T)\n",
    "plt.colorbar()\n",
    "plt.quiver(X[::10,::10],Y[::10,::10],u.T[::10,::10],v.T[::10,::10])\n",
    "plt.streamplot(X,Y,u.T,v.T,color='w')"
   ]
  }
 ],
 "metadata": {
  "colab": {
   "provenance": []
  },
  "kernelspec": {
   "display_name": "Python 3 (ipykernel)",
   "language": "python",
   "name": "python3"
  },
  "language_info": {
   "codemirror_mode": {
    "name": "ipython",
    "version": 3
   },
   "file_extension": ".py",
   "mimetype": "text/x-python",
   "name": "python",
   "nbconvert_exporter": "python",
   "pygments_lexer": "ipython3",
   "version": "3.10.7"
  }
 },
 "nbformat": 4,
 "nbformat_minor": 4
}
