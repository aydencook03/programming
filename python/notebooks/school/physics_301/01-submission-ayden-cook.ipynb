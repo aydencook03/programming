{
 "cells": [
  {
   "cell_type": "markdown",
   "id": "edba087a-c593-47c5-ab88-f964259ab4f7",
   "metadata": {},
   "source": [
    "# Ayden Cook\n",
    "\n",
    "> **Physics 301**\n",
    ">\n",
    "> *7th September, 2022*\n",
    "\n",
    "---\n",
    "\n",
    "## Assignment 1: Random Walk Simulation\n",
    "\n",
    "The goal of this assignment is to simulate photons moving in the $z$-direction through an atmosphere from $z=0$ to $z=1$. \n",
    "\n",
    "- This atmosphere shoould be divided into $N_{l} \\ge 100$ layers. In each layer $\\Delta z = \\frac{1}{N_{l}}$ let the probability of absorption be $P[\\Delta z] = \\frac{1}{N_{l}}$. Use the `np.random.uniform()` function.  \n",
    "- The direction of emission is random, where the probability of the emitted photon moving in the positize ($+z$) direction is the same as moving in the negative ($-z$) direction. \n",
    "- Eventually the photon either gets back to $z=0$ or moves above $z=1$, and the simulation for that photon stops. \n",
    "- Do this for about 10,000 photons and track how many made it $z=1$ and how many went back to $z=0$.\n",
    "\n",
    "---"
   ]
  },
  {
   "cell_type": "code",
   "execution_count": 1,
   "id": "6aae76d0-7b1d-4174-8e13-957d60f5771c",
   "metadata": {},
   "outputs": [],
   "source": [
    "import numpy as np\n",
    "\n",
    "def run_simulation(P, N):\n",
    "    # P: number of photons to simulate\n",
    "    # N: number of layers in the atmosphere\n",
    "    \n",
    "    layer_height = 1.0/N # height of each layer of the atmosphere\n",
    "    prob = 1.0/N # probability of absorbtion by an atmosphere layer\n",
    "    \n",
    "    absorbed = 0 # number of photons that make it back to the surface and are absorbed\n",
    "    escaped = 0 # number of photons that successfully escape the atmosphere\n",
    "    \n",
    "    rng = np.random.default_rng()\n",
    "    \n",
    "    for n in range(P):\n",
    "        z = layer_height/2.0 # the height of the photon above the surface\n",
    "        z_vel = 1.0 # direction the photon is traveling (1.0 up, -1.0 down)\n",
    "        \n",
    "        # loop while the photon is still in the atmosphere\n",
    "        while (z >= 0.0) and (z <= 1.0):\n",
    "            z += z_vel * layer_height\n",
    "            \n",
    "            rand = rng.random() # returns a random float from uniform [0.0, 1.0)\n",
    "\n",
    "            # check if the layer randomly absorbs the photon\n",
    "            if rand < prob:\n",
    "                z_vel = rng.choice([-1.0, 1.0]) # randomly re-emit photon either up or down\n",
    "        \n",
    "        # check whether the photon was absorbed by the planet or made it out of the atmosphere, update tallies\n",
    "        if (z <= 0.0):\n",
    "            absorbed += 1\n",
    "        elif (z >= 1.0):\n",
    "            escaped += 1\n",
    "                    \n",
    "    return (absorbed, escaped)"
   ]
  },
  {
   "cell_type": "code",
   "execution_count": 2,
   "id": "c5cd5b3c-c875-4ba0-98d7-bd1c753d366d",
   "metadata": {},
   "outputs": [
    {
     "data": {
      "text/plain": [
       "(3298, 6702)"
      ]
     },
     "execution_count": 2,
     "metadata": {},
     "output_type": "execute_result"
    }
   ],
   "source": [
    "# run the simulation with 10,000 photons and 200 atmosphere layers\n",
    "run_simulation(10000, 200)"
   ]
  }
 ],
 "metadata": {
  "kernelspec": {
   "display_name": "Python 3 (ipykernel)",
   "language": "python",
   "name": "python3"
  },
  "language_info": {
   "codemirror_mode": {
    "name": "ipython",
    "version": 3
   },
   "file_extension": ".py",
   "mimetype": "text/x-python",
   "name": "python",
   "nbconvert_exporter": "python",
   "pygments_lexer": "ipython3",
   "version": "3.10.6"
  }
 },
 "nbformat": 4,
 "nbformat_minor": 5
}
