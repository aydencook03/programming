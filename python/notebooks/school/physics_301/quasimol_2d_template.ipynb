{
 "cells": [
  {
   "cell_type": "code",
   "execution_count": 1,
   "id": "13094967-01b2-4956-aae8-6eafb08969f6",
   "metadata": {
    "id": "13094967-01b2-4956-aae8-6eafb08969f6"
   },
   "outputs": [],
   "source": [
    "%matplotlib inline\n",
    "import numpy as np\n",
    "import matplotlib.pyplot as plt\n",
    "\n",
    "#from mpl_toolkits.mplot3d import Axes3D  #### is this required\n",
    "#import matplotlib.animation as animation\n",
    "#from IPython.display import HTML\n"
   ]
  },
  {
   "cell_type": "markdown",
   "id": "bd5f81ea-afea-4607-a0f9-6064c7d44729",
   "metadata": {
    "id": "bd5f81ea-afea-4607-a0f9-6064c7d44729"
   },
   "source": [
    "Quasiparticle Force\n",
    "$$  \\vec{F} = A \\left( -\\frac{1}{r_{12}^{3}} + \\frac{d^{2}}{r_{12}^{5}} \\right) \\hat{r}_{12} \\\\\n",
    "= A \\left( -\\frac{1}{r_{12}^{4}} + \\frac{d^{2}}{r_{12}^{6}} \\right) \\vec{r}_{12}\n",
    "$$"
   ]
  },
  {
   "cell_type": "code",
   "execution_count": 2,
   "id": "7e43d001-a891-4b0d-b723-cfee4420bea0",
   "metadata": {
    "id": "7e43d001-a891-4b0d-b723-cfee4420bea0"
   },
   "outputs": [],
   "source": [
    "def force(r1,r2,d=0.1,fmag=1.0):  #inputs 1-D vectors length 2\n",
    "    x1, y1 = r1\n",
    "    x2, y2 = r2\n",
    "    rsq = max([(x2 - x1)**2 + (y2 - y1)**2, 0.00001])\n",
    "    f = fmag*(-1/(rsq**(2)) + (d**2)/(rsq**(3)))\n",
    "    return np.array([f*(x1-x2), f*(y1-y2)])"
   ]
  },
  {
   "cell_type": "markdown",
   "id": "209c0af3-bfd6-4613-b83e-b911cecf81cd",
   "metadata": {
    "id": "209c0af3-bfd6-4613-b83e-b911cecf81cd"
   },
   "source": [
    "### Parameters \n",
    "\n",
    "Notably the number of particles, a force scaling parameter, $f_{mag}$, an intraparticle distance scale, $d$, and a time step $dt$."
   ]
  },
  {
   "cell_type": "code",
   "execution_count": 3,
   "id": "8989d660-2e85-4f62-b2b3-bbbacfbe7e57",
   "metadata": {
    "id": "8989d660-2e85-4f62-b2b3-bbbacfbe7e57"
   },
   "outputs": [],
   "source": [
    "nparticles = 100   ##### Number of particles is proportional to mass\n",
    "fmag = 2.0 ### Keep this the same number in the simulations\n",
    "d = 0.50 ### keep this the same number in the simulations\n",
    "dt = 0.01 # Time step\n",
    "g = np.asarray([0,-3.5]) # gravity\n"
   ]
  },
  {
   "cell_type": "markdown",
   "id": "beaa1c15-628c-4807-9fbc-a14ceec83716",
   "metadata": {
    "id": "beaa1c15-628c-4807-9fbc-a14ceec83716"
   },
   "source": [
    "The properties of the particles will be in two 2-D arays, one for position and one for velocity. The columns of the position array will be $[ x, y, z] $ and\n",
    "$ [ v_{x}, v_{y}, v_{z}] $\n"
   ]
  },
  {
   "cell_type": "code",
   "execution_count": 4,
   "id": "1ea861c8-3efa-4d2a-bb2b-fb072a2e72bf",
   "metadata": {
    "id": "1ea861c8-3efa-4d2a-bb2b-fb072a2e72bf"
   },
   "outputs": [
    {
     "data": {
      "text/plain": [
       "<matplotlib.collections.PathCollection at 0x7f76d666e140>"
      ]
     },
     "execution_count": 4,
     "metadata": {},
     "output_type": "execute_result"
    },
    {
     "data": {
      "image/png": "[encoded data removed]",
      "text/plain": [
       "<Figure size 800x800 with 1 Axes>"
      ]
     },
     "metadata": {},
     "output_type": "display_data"
    }
   ],
   "source": [
    "#Initial arrays\n",
    "posArr = np.zeros(shape=(nparticles,2))\n",
    "velArr = np.zeros(shape=(nparticles,2))\n",
    "\n",
    "gScale = 0.60 ## Needed to prevent out of control collapse from unnatural grid initial conditions\n",
    "\n",
    "xDim = int(np.ceil(np.sqrt(nparticles))) # size of box\n",
    "yDim = int(np.ceil(np.sqrt(nparticles)))\n",
    "\n",
    "obIdx = 0\n",
    "for j in range(yDim):\n",
    "    for i in range(xDim):\n",
    "            if (obIdx < nparticles):\n",
    "                posArr[obIdx,:] = [i*d*gScale, j*d*gScale]\n",
    "                \n",
    "            obIdx = obIdx + 1\n",
    "\n",
    "xBox = (xDim-1)*d*gScale\n",
    "yBox = (yDim-1)*d*gScale\n",
    "\n",
    "### Small random velocities\n",
    "#ranv = 0.001*np.random.normal(0, 0.5, nparticles)\n",
    "#ranphi = np.random.uniform(0, 2*np.pi, nparticles)\n",
    "#for i in range(nparticles):\n",
    "#    velArr[i,0]=abs(ranv[i])*np.cos(ranphi[i])\n",
    "#    velArr[i,1]=abs(ranv[i])*np.sin(ranphi[i])\n",
    "\n",
    "fig = plt.figure(figsize=(8,8))\n",
    "ax = fig.add_subplot()\n",
    "ax.scatter(posArr[:,0],posArr[:,1])\n",
    "\n",
    "\n"
   ]
  },
  {
   "cell_type": "markdown",
   "id": "3c40b523-6495-492e-9c07-29de8be09018",
   "metadata": {
    "id": "3c40b523-6495-492e-9c07-29de8be09018"
   },
   "source": [
    "Update routine\n",
    "$$ \\vec{v}_{t+1/2} = \\vec{v}_{t} + \\frac{(\\Delta t)}{2} \\vec{a}[\\vec{r}_{t}] $$\n",
    "$$ \\vec{r}_{t+1} = \\vec{r}_{t} + (\\Delta t) \\vec{v}_{t+1/2} $$\n",
    "$$ \\vec{v}_{t+1} = \\vec{v}_{t+1/2} + \\frac{(\\Delta t)}{2} \\vec{a}[\\vec{r}_{t+1}] $$"
   ]
  },
  {
   "cell_type": "code",
   "execution_count": null,
   "id": "eea8afa1-4e3b-4f3b-9093-2a3f939399f5",
   "metadata": {
    "id": "eea8afa1-4e3b-4f3b-9093-2a3f939399f5"
   },
   "outputs": [],
   "source": [
    "t = 0\n",
    "tmax = 5\n",
    "frict = 0.20 #Artificial friction coefficient for wall collisions\n",
    "\n",
    "while t < tmax:\n",
    "    for i in range(nparticles):\n",
    "        f12 = np.array([0.0,0.0])\n",
    "        for j in np.setdiff1d(range(nparticles), i):\n",
    "            f12 = f12 + force(posArr[i,:], posArr[j,:], d, fmag)\n",
    "        velArr[i,:] = velArr[i,:] + (f12 + g)*dt/2\n",
    "        posArr[i,:] = posArr[i,:] + velArr[i,:]*dt\n",
    "        f12 = np.array([0.0,0.0])\n",
    "        for j in np.setdiff1d(range(nparticles), i):\n",
    "            f12 = f12 + force(posArr[i,:], posArr[j,:], d, fmag)\n",
    "        velArr[i,:] = velArr[i,:] + (f12 + g)*dt/2\n",
    "        ### boundary conditions\n",
    "        if (posArr[i,0] > xBox):\n",
    "            posArr[i,0] = xBox\n",
    "            velArr[i,0] = -(1-frict)*abs(velArr[i,0])\n",
    "        elif (posArr[i,0] < 0):\n",
    "            posArr[i,0] = 0\n",
    "            velArr[i,0] = (1-frict)*abs(velArr[i,0])\n",
    "        if (posArr[i,1] > yBox):\n",
    "            posArr[i,1] = yBox\n",
    "            velArr[i,1] = -(1-frict)*abs(velArr[i,1])\n",
    "        elif (posArr[i,1] < 0):\n",
    "            posArr[i,1] = 0\n",
    "            velArr[i,1] = (1-frict)*abs(velArr[i,1])\n",
    "    t = t + dt\n",
    "            \n",
    "\n",
    "fig = plt.figure(figsize=(8,8))\n",
    "ax = fig.add_subplot()\n",
    "ax.scatter(posArr[:,0],posArr[:,1])\n",
    "ax.quiver(posArr[:,0],posArr[:,1],velArr[:,0],velArr[:,1])"
   ]
  },
  {
   "cell_type": "code",
   "execution_count": null,
   "id": "_gWwBPuNNjbj",
   "metadata": {
    "id": "_gWwBPuNNjbj"
   },
   "outputs": [],
   "source": []
  }
 ],
 "metadata": {
  "colab": {
   "collapsed_sections": [],
   "provenance": []
  },
  "kernelspec": {
   "display_name": "Python 3 (ipykernel)",
   "language": "python",
   "name": "python3"
  },
  "language_info": {
   "codemirror_mode": {
    "name": "ipython",
    "version": 3
   },
   "file_extension": ".py",
   "mimetype": "text/x-python",
   "name": "python",
   "nbconvert_exporter": "python",
   "pygments_lexer": "ipython3",
   "version": "3.10.7"
  }
 },
 "nbformat": 4,
 "nbformat_minor": 5
}
