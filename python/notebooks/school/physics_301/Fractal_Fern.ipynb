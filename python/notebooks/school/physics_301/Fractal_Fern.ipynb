{
  "nbformat": 4,
  "nbformat_minor": 0,
  "metadata": {
    "colab": {
      "provenance": []
    },
    "kernelspec": {
      "name": "python3",
      "display_name": "Python 3"
    },
    "language_info": {
      "name": "python"
    }
  },
  "cells": [
    {
      "cell_type": "markdown",
      "source": [
        "## Fractal Fern\n",
        "\n",
        "Initial algorithm\n",
        "\n",
        "$$\n",
        "(x_{n+1},y_{n+1})\n",
        "\\begin{cases}\n",
        "(0.5, 0.27y_{n}) & r < 0.02 \\\\\n",
        "(-0.139 x_{n} + 0.263 y_{n} + 0.57, \\\\\n",
        "\\quad 0.246 x_{n} + 0.224 y_{n} - 0.036) & 0.02 \\leq r \\leq 0.17 \\\\\n",
        "(0.17 x_{n} - 0.215 y_{n} + 0.408, \\\\\n",
        "\\quad 0.222 x_{n} + 0.176 y_{n} +0.0893) & 0.17 < r \\leq 0.3 \\\\\n",
        "(0.781 x_{n} + 0.034 y_{n} + 0.1075,\n",
        "\\quad -0.032 x_{n} + 0.739 y_{n} + 0.27) & 0.3 < r \\leq 1\n",
        "\\end{cases}\n",
        "$$\n",
        "\n",
        "where $r$ is a number in the range 0 to 1 pulled from a uniform distribution."
      ],
      "metadata": {
        "id": "YSNllJ_XNT4I"
      }
    },
    {
      "cell_type": "code",
      "execution_count": null,
      "metadata": {
        "id": "C-r_arckT3Qf"
      },
      "outputs": [],
      "source": [
        "import numpy as np\n",
        "import matplotlib.pyplot as plt"
      ]
    },
    {
      "cell_type": "code",
      "source": [
        "imax = 15\n",
        "x = 0.5\n",
        "y = 0\n"
      ],
      "metadata": {
        "id": "fxpNRVznUCaH"
      },
      "execution_count": null,
      "outputs": []
    }
  ]
}