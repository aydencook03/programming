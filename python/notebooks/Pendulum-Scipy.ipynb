{
 "cells": [
  {
   "cell_type": "code",
   "execution_count": 1,
   "metadata": {},
   "outputs": [],
   "source": [
    "import matplotlib.pyplot as plt\n",
    "import scipy.integrate\n",
    "import numpy as np\n",
    "%matplotlib inline"
   ]
  },
  {
   "cell_type": "code",
   "execution_count": 32,
   "metadata": {},
   "outputs": [
    {
     "name": "stdout",
     "output_type": "stream",
     "text": [
      "Full Equation:\n"
     ]
    },
    {
     "data": {
      "text/latex": [
       "$\\displaystyle \\frac{d^{2}}{d t^{2}} \\theta{\\left(t \\right)} = - \\frac{g \\sin{\\left(\\theta{\\left(t \\right)} \\right)}}{l}$"
      ],
      "text/plain": [
       "Eq(Derivative(theta(t), (t, 2)), -g*sin(theta(t))/l)"
      ]
     },
     "metadata": {},
     "output_type": "display_data"
    },
    {
     "name": "stdout",
     "output_type": "stream",
     "text": [
      "\n",
      "\n",
      "System of Equations:\n"
     ]
    },
    {
     "data": {
      "text/latex": [
       "$\\displaystyle \\frac{d}{d t} \\theta{\\left(t \\right)} = \\omega{\\left(t \\right)}$"
      ],
      "text/plain": [
       "Eq(Derivative(theta(t), t), omega(t))"
      ]
     },
     "metadata": {},
     "output_type": "display_data"
    },
    {
     "data": {
      "text/latex": [
       "$\\displaystyle \\frac{d}{d t} \\omega{\\left(t \\right)} = - \\frac{g \\sin{\\left(\\theta{\\left(t \\right)} \\right)}}{l}$"
      ],
      "text/plain": [
       "Eq(Derivative(omega(t), t), -g*sin(theta(t))/l)"
      ]
     },
     "metadata": {},
     "output_type": "display_data"
    }
   ],
   "source": [
    "# this cell is just for showing the equations\n",
    "from sympy.abc import theta, omega\n",
    "import sympy\n",
    "\n",
    "t, g, l = sympy.symbols('t g l')\n",
    "thet = sympy.Function(theta)\n",
    "omeg = sympy.Function(omega)\n",
    "\n",
    "print(\"Full Equation:\")\n",
    "display(sympy.Eq(thet(t).diff(t, 2), -g/l * sympy.sin(thet(t))))\n",
    "print('\\n')\n",
    "print(\"System of Equations:\")\n",
    "display(sympy.Eq(thet(t).diff(t), omeg(t)))\n",
    "display(sympy.Eq(omeg(t).diff(t), -g/l * sympy.sin(thet(t))))"
   ]
  },
  {
   "cell_type": "code",
   "execution_count": null,
   "metadata": {},
   "outputs": [],
   "source": [
    "def omeg(t, y):\n",
    "    return (-g/l) * np.sin()"
   ]
  },
  {
   "cell_type": "code",
   "execution_count": 33,
   "metadata": {},
   "outputs": [],
   "source": [
    "#variables\n",
    "g = 9.81 #m/s/s\n",
    "l = 1 #m\n",
    "\n",
    "# t0\n",
    "angle = 179.9 #degrees"
   ]
  },
  {
   "cell_type": "code",
   "execution_count": null,
   "metadata": {},
   "outputs": [],
   "source": []
  }
 ],
 "metadata": {
  "kernelspec": {
   "display_name": "Python 3",
   "language": "python",
   "name": "python3"
  },
  "language_info": {
   "codemirror_mode": {
    "name": "ipython",
    "version": 3
   },
   "file_extension": ".py",
   "mimetype": "text/x-python",
   "name": "python",
   "nbconvert_exporter": "python",
   "pygments_lexer": "ipython3",
   "version": "3.8.6"
  }
 },
 "nbformat": 4,
 "nbformat_minor": 4
}
